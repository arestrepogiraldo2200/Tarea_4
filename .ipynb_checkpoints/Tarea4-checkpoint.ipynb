{
 "cells": [
  {
   "cell_type": "markdown",
   "metadata": {},
   "source": [
    "# Tarea 4: Zona habitable\n",
    "\n",
    "Alejandro Restrepo Giraldo  CC: 1001389709\n",
    "\n"
   ]
  },
  {
   "cell_type": "markdown",
   "metadata": {},
   "source": [
    "Se utiliza el modelo descrito en http://phl.upr.edu/library/notes/habitablezonesdistancehzdahabitabilitymetricforexoplanets el cual calcula las distancias interiror y exteriror de la zona habitable como\n",
    "\n",
    "$$r_i = [r_{is} - a_i(T_{eff}-T_s) - b_i(T_{eff}-T_s)^2 ]\\sqrt{L}$$\n",
    "$$r_o = [r_{os} - a_o(T_{eff}-T_s) - b_o(T_{eff}-T_s)^2 ]\\sqrt{L}$$\n",
    "\n",
    "En donde $L$ es la luminosidad medida en luminosidades solares, $T_s$ es la temperatura del sol, $T_eff$ es la temperatura efectiva de la estrella, es decir, la temperatura de un cuerpo negro que emite un espectro similar y las constantes son\n",
    "\n",
    "$$r_{is} = 0.72$$\n",
    "$$r_{os} = 1.77$$\n",
    "$$a_i = 2.7619 \\times 10^{-5}$$\n",
    "$$ao = 1.3786 \\times10^{-4}$$\n",
    "$$bi = 3.8095 \\times10^{-9}$$\n",
    "$$bo = 1.4286 \\times10^{-9}$$\n",
    "\n",
    "Luego, construye una métrica $HZD$ (habitable zone distance) con unidades $HZU$ (habitable zone units) para la zona habitable de cada sistema de la manera\n",
    "\n",
    "$$HZD = \\frac{2r-r_o-r_i}{r_o-r_i}$$\n",
    "\n",
    "Si $-1<$ $HZD $ $< 1$ el planeta se encuentra en la zona habitable de su estrella."
   ]
  },
  {
   "cell_type": "code",
   "execution_count": 197,
   "metadata": {},
   "outputs": [],
   "source": [
    "# Librerías\n",
    "import numpy as np\n",
    "import pandas as pd"
   ]
  },
  {
   "cell_type": "code",
   "execution_count": 198,
   "metadata": {},
   "outputs": [
    {
     "name": "stderr",
     "output_type": "stream",
     "text": [
      "/home/usuario/.local/lib/python3.6/site-packages/IPython/core/interactiveshell.py:3072: DtypeWarning: Columns (4,5,10,11,17,18,23,24,26,27,30,33,38,39,44,45,50,51,56,57,62,63,70,71,73,74,79,80,81,82,88,89,95,96,105,106,109,110,115,116,117,124,125,130,131,137,143,144,149,150,159,160,161,162,172,173,174,179,180,182,188,189,195,196,201,202,205,206,211,212,217,218,223,224,229,230,235,236,241,242,247,248,253,254,259,260,265,266,268,269,270,271,273,278,279,284,285,290,291,294,295,301,302,304,305,310,311) have mixed types.Specify dtype option on import or set low_memory=False.\n",
      "  interactivity=interactivity, compiler=compiler, result=result)\n"
     ]
    }
   ],
   "source": [
    "# Se cargan los datos\n",
    "data = pd.read_csv(\"exoplanets.csv\")\n",
    "#print(data)"
   ]
  },
  {
   "cell_type": "code",
   "execution_count": 199,
   "metadata": {},
   "outputs": [],
   "source": [
    "# Se filtran las columnas de interés\n",
    "\n",
    "NAME = data['NAME']          # Nombre del planeta\n",
    "TEFF = data['TEFF']          # Temperatura efectiva\n",
    "MASS = data['MASS']          # Masa del planeta\n",
    "A = data['A']                # Semieje mayor\n",
    "DENSITY = data['DENSITY']    # Densidad del planeta\n",
    "R = data['R']                # Radio del planeta\n",
    "STAR = data['STAR']          # Nombre de la estrella\n",
    "MSTAR = data['MSTAR']        # Masa de la estrella\n",
    "RSTAR = data['RSTAR']        # Radio de la estrella\n",
    "BINARY = data['BINARY']      # Sistema binario\n",
    "\n",
    "#print(MASS)\n",
    "#print(R)"
   ]
  },
  {
   "cell_type": "code",
   "execution_count": 200,
   "metadata": {},
   "outputs": [],
   "source": [
    "# Función para cambiar la masa medida en masas de jupiter a masas de la tierra\n",
    "def ToEarthMass(a):\n",
    "    return a*317.907\n",
    "\n",
    "# Cambio de unidades de medida de la masa\n",
    "MASSE = MASS.pipe(ToEarthMass)\n",
    "#print(MASSE)\n",
    "\n",
    "# Función para cambiar el radio medido en radio de jupiter a radio de la tierra\n",
    "def ToEarthRadius(a):\n",
    "    return a*11.2089\n",
    "\n",
    "# Cambio de unidades de medida del radio\n",
    "RE = R.pipe(ToEarthRadius)\n",
    "#print(RE)"
   ]
  },
  {
   "cell_type": "code",
   "execution_count": 201,
   "metadata": {
    "scrolled": false
   },
   "outputs": [],
   "source": [
    "# DataFrame\n",
    "frame = { \"NAME\": NAME, \"TEFF\": TEFF, \"MASS\": MASS, \"MASSE\": MASSE, \"A\": A, \"DENSITY\":DENSITY, \"R\":R,\"RE\":RE ,\" STAR\": STAR, \"MSTAR\": MSTAR, \"RSTAR\": RSTAR,\"BINARY\":BINARY }\n",
    "datos1 = pd.DataFrame(frame) \n",
    "\n",
    "#print(datos1)"
   ]
  },
  {
   "cell_type": "code",
   "execution_count": 202,
   "metadata": {},
   "outputs": [],
   "source": [
    "# Se descartan los datos con Binario = 1 y NaN\n",
    "datos = datos1.query(\"BINARY == 0 or BINARY == 'NaN'\" )\n",
    "#print(datos)\n",
    "\n",
    "\n",
    "#i = datos[datos['NAME']=='Kepler-22 b']\n",
    "#print(i)"
   ]
  },
  {
   "cell_type": "code",
   "execution_count": 203,
   "metadata": {},
   "outputs": [
    {
     "name": "stdout",
     "output_type": "stream",
     "text": [
      "               NAME    TEFF      MASS       MASSE         A  DENSITY  \\\n",
      "0      Kepler-107 d  5851.0  0.003712    1.180179  0.078010      NaN   \n",
      "1     Kepler-1049 b  3864.0  0.002453    0.779854  0.034472      NaN   \n",
      "2      Kepler-813 b  5743.0  0.015970    5.076879  0.137610      NaN   \n",
      "3      Kepler-427 b  5800.0  0.290000   92.193030  0.091351     0.16   \n",
      "4     Kepler-1056 b  6127.0  0.027126    8.623577  0.185149      NaN   \n",
      "...             ...     ...       ...         ...       ...      ...   \n",
      "5742    KOI 7978.01  6297.0  0.012544    3.987903  0.082100      NaN   \n",
      "5743    KOI 7982.01  6231.0  0.033310   10.589346  1.028700      NaN   \n",
      "5744    KOI 8193.01  5570.0  0.045399   14.432589  0.995500      NaN   \n",
      "5745    KOI 7986.01  6119.0  0.000983    0.312479  0.029000      NaN   \n",
      "5746    KOI 7988.01  4989.0  1.000000  317.907000  1.223300      NaN   \n",
      "\n",
      "             R         RE         STAR  MSTAR  RSTAR  BINARY           LUM  \\\n",
      "0     0.095459   1.069990   Kepler-107    NaN  1.411     0.0  8.047101e+26   \n",
      "1     0.085000   0.952757  Kepler-1049  0.510  0.490     0.0  1.845889e+25   \n",
      "2     0.191000   2.140900   Kepler-813  0.950  0.930     0.0  3.244787e+26   \n",
      "3     1.230000  13.786947   Kepler-427  0.960  1.350     0.0  7.112865e+26   \n",
      "4     0.269000   3.015194  Kepler-1056  1.120  1.200     0.0  6.998727e+26   \n",
      "...        ...        ...          ...    ...    ...     ...           ...   \n",
      "5742  0.148096   1.659988     KOI 7978  1.398  2.219     NaN  2.670019e+27   \n",
      "5743  0.290838   3.259977     KOI 7982  1.025  0.955     NaN  4.741358e+26   \n",
      "5744  0.331877   3.719973     KOI 8193  0.971  0.855     NaN  2.426711e+26   \n",
      "5745  0.064234   0.719995     KOI 7986  1.075  1.031     NaN  5.139303e+26   \n",
      "5746  1.721834  19.299861     KOI 7988  2.190  7.824     NaN  1.307907e+28   \n",
      "\n",
      "           LUMS  \n",
      "0      2.102718  \n",
      "1      0.048233  \n",
      "2      0.847867  \n",
      "3      1.858601  \n",
      "4      1.828776  \n",
      "...         ...  \n",
      "5742   6.976795  \n",
      "5743   1.238923  \n",
      "5744   0.634103  \n",
      "5745   1.342906  \n",
      "5746  34.175767  \n",
      "\n",
      "[5010 rows x 14 columns]\n"
     ]
    },
    {
     "name": "stderr",
     "output_type": "stream",
     "text": [
      "/home/usuario/.local/lib/python3.6/site-packages/ipykernel_launcher.py:13: SettingWithCopyWarning: \n",
      "A value is trying to be set on a copy of a slice from a DataFrame.\n",
      "Try using .loc[row_indexer,col_indexer] = value instead\n",
      "\n",
      "See the caveats in the documentation: https://pandas.pydata.org/pandas-docs/stable/user_guide/indexing.html#returning-a-view-versus-a-copy\n",
      "  del sys.path[0]\n",
      "/home/usuario/.local/lib/python3.6/site-packages/ipykernel_launcher.py:15: SettingWithCopyWarning: \n",
      "A value is trying to be set on a copy of a slice from a DataFrame.\n",
      "Try using .loc[row_indexer,col_indexer] = value instead\n",
      "\n",
      "See the caveats in the documentation: https://pandas.pydata.org/pandas-docs/stable/user_guide/indexing.html#returning-a-view-versus-a-copy\n",
      "  from ipykernel import kernelapp as app\n"
     ]
    }
   ],
   "source": [
    "# Función de cálculo de luminosidad\n",
    "def Lumin(R,T):\n",
    "    \n",
    "    # Constante de Stefan-Boltzmann\n",
    "    sigma = 5.670367*10**(-8)\n",
    "    \n",
    "    # Valor de conversión de radios solares a metros\n",
    "    convers = 6.95700*10**8\n",
    "    \n",
    "    return 4*np.pi*R**2*sigma*T**4*convers**2\n",
    "\n",
    "# Se crea otra columna del DataFrame para la luminosidad de la estrella\n",
    "datos[\"LUM\"] = Lumin(RSTAR,TEFF)\n",
    "# Se crea columna de luminosidad en unidades de luminosidad solar\n",
    "datos[\"LUMS\"] = datos[\"LUM\"]/(3.827*10**26)\n",
    "print(datos)"
   ]
  },
  {
   "cell_type": "code",
   "execution_count": 204,
   "metadata": {},
   "outputs": [
    {
     "name": "stdout",
     "output_type": "stream",
     "text": [
      "               NAME    TEFF      MASS       MASSE         A  DENSITY  \\\n",
      "0      Kepler-107 d  5851.0  0.003712    1.180179  0.078010      NaN   \n",
      "1     Kepler-1049 b  3864.0  0.002453    0.779854  0.034472      NaN   \n",
      "2      Kepler-813 b  5743.0  0.015970    5.076879  0.137610      NaN   \n",
      "3      Kepler-427 b  5800.0  0.290000   92.193030  0.091351     0.16   \n",
      "4     Kepler-1056 b  6127.0  0.027126    8.623577  0.185149      NaN   \n",
      "...             ...     ...       ...         ...       ...      ...   \n",
      "5742    KOI 7978.01  6297.0  0.012544    3.987903  0.082100      NaN   \n",
      "5743    KOI 7982.01  6231.0  0.033310   10.589346  1.028700      NaN   \n",
      "5744    KOI 8193.01  5570.0  0.045399   14.432589  0.995500      NaN   \n",
      "5745    KOI 7986.01  6119.0  0.000983    0.312479  0.029000      NaN   \n",
      "5746    KOI 7988.01  4989.0  1.000000  317.907000  1.223300      NaN   \n",
      "\n",
      "             R         RE         STAR  MSTAR  RSTAR  BINARY           LUM  \\\n",
      "0     0.095459   1.069990   Kepler-107    NaN  1.411     0.0  8.047101e+26   \n",
      "1     0.085000   0.952757  Kepler-1049  0.510  0.490     0.0  1.845889e+25   \n",
      "2     0.191000   2.140900   Kepler-813  0.950  0.930     0.0  3.244787e+26   \n",
      "3     1.230000  13.786947   Kepler-427  0.960  1.350     0.0  7.112865e+26   \n",
      "4     0.269000   3.015194  Kepler-1056  1.120  1.200     0.0  6.998727e+26   \n",
      "...        ...        ...          ...    ...    ...     ...           ...   \n",
      "5742  0.148096   1.659988     KOI 7978  1.398  2.219     NaN  2.670019e+27   \n",
      "5743  0.290838   3.259977     KOI 7982  1.025  0.955     NaN  4.741358e+26   \n",
      "5744  0.331877   3.719973     KOI 8193  0.971  0.855     NaN  2.426711e+26   \n",
      "5745  0.064234   0.719995     KOI 7986  1.075  1.031     NaN  5.139303e+26   \n",
      "5746  1.721834  19.299861     KOI 7988  2.190  7.824     NaN  1.307907e+28   \n",
      "\n",
      "           LUMS        ri         ro  \n",
      "0      2.102718  1.041183   2.552429  \n",
      "1      0.048233  0.166678   0.445588  \n",
      "2      0.847867  0.663910   1.634506  \n",
      "3      1.858601  0.980824   2.409290  \n",
      "4      1.828776  0.960092   2.328687  \n",
      "...         ...       ...        ...  \n",
      "5742   6.976795  1.861375   4.485943  \n",
      "5743   1.238923  0.786683   1.900604  \n",
      "5744   0.634103  0.577825   1.432464  \n",
      "5745   1.342906  0.823006   1.996796  \n",
      "5746  34.175767  4.322905  10.979693  \n",
      "\n",
      "[5010 rows x 16 columns]\n"
     ]
    },
    {
     "name": "stderr",
     "output_type": "stream",
     "text": [
      "/home/usuario/.local/lib/python3.6/site-packages/ipykernel_launcher.py:13: SettingWithCopyWarning: \n",
      "A value is trying to be set on a copy of a slice from a DataFrame.\n",
      "Try using .loc[row_indexer,col_indexer] = value instead\n",
      "\n",
      "See the caveats in the documentation: https://pandas.pydata.org/pandas-docs/stable/user_guide/indexing.html#returning-a-view-versus-a-copy\n",
      "  del sys.path[0]\n",
      "/home/usuario/.local/lib/python3.6/site-packages/ipykernel_launcher.py:14: SettingWithCopyWarning: \n",
      "A value is trying to be set on a copy of a slice from a DataFrame.\n",
      "Try using .loc[row_indexer,col_indexer] = value instead\n",
      "\n",
      "See the caveats in the documentation: https://pandas.pydata.org/pandas-docs/stable/user_guide/indexing.html#returning-a-view-versus-a-copy\n",
      "  \n"
     ]
    }
   ],
   "source": [
    "# Se calculan los límites r_i y r_o\n",
    "\n",
    "# Constantes del modelo\n",
    "ris = 0.72\n",
    "ros = 1.77\n",
    "ai = 2.7619*10**(-5)\n",
    "ao = 1.3786*10**(-4)\n",
    "bi = 3.8095*10**(-9)\n",
    "bo = 1.4286*10**(-9)\n",
    "Ts = 5780\n",
    "\n",
    "# Límites\n",
    "datos[\"ri\"] = (ris - ai*(datos[\"TEFF\"] - Ts) - bi*(datos[\"TEFF\"] - Ts)**2 )*np.sqrt(datos[\"LUMS\"])\n",
    "datos[\"ro\"] = (ros - ao*(datos[\"TEFF\"] - Ts) - bo*(datos[\"TEFF\"] - Ts)**2 )*np.sqrt(datos[\"LUMS\"])\n",
    "\n",
    "print(datos)\n"
   ]
  },
  {
   "cell_type": "code",
   "execution_count": 205,
   "metadata": {
    "scrolled": false
   },
   "outputs": [],
   "source": [
    "# Se descartan los datos con Binario = 1 y NaN\n",
    "datos = datos.query(\"DENSITY >= 5\" )\n",
    "#print(datos)"
   ]
  },
  {
   "cell_type": "code",
   "execution_count": 206,
   "metadata": {
    "scrolled": false
   },
   "outputs": [
    {
     "name": "stdout",
     "output_type": "stream",
     "text": [
      "              NAME    TEFF       MASS        MASSE         A    DENSITY  \\\n",
      "26       HD 3167 b  5261.0   0.015891     5.051860  0.018149    5.60000   \n",
      "174      WASP-18 b  6400.0  10.200600  3242.842144  0.020140   10.28090   \n",
      "318   Kepler-113 b  4725.0   0.013404     4.261225  0.050274   10.73000   \n",
      "429      HAT-P-2 b  6290.0   8.870660  2820.044909  0.067909    7.29000   \n",
      "476    HD 219134 b  4699.0   0.014888     4.732904  0.038727    6.28034   \n",
      "492   Kepler-406 b  5538.0   0.019979     6.351528  0.036144   11.82000   \n",
      "683      CoRoT-7 b  5275.0   0.014000     4.450698  0.017190    6.21000   \n",
      "958   Kepler-406 c  5538.0   0.008575     2.726072  0.055553   24.39000   \n",
      "963    Kepler-39 b  6260.0  18.180500  5779.708213  0.155007   12.40000   \n",
      "993      CoRoT-3 b  6740.0  21.854900  6947.825694  0.057379   26.40000   \n",
      "1324   Kepler-33 c  5904.0   0.030528     9.705128  0.118876    9.91915   \n",
      "1334    CoRoT-14 b  6035.0   7.694640  2446.179918  0.026912    7.30000   \n",
      "1350  Kepler-396 b  5590.0        NaN          NaN  0.227505    9.71800   \n",
      "1366   Kepler-33 f  5904.0   0.065410    20.794138  0.253499    5.34815   \n",
      "1401     GJ 1132 b  3270.0   0.005280     1.678422  0.015326    6.00000   \n",
      "1511    CoRoT-27 b  5900.0  10.388200  3302.481497  0.046656   13.48230   \n",
      "1532   Kepler-37 c  5417.0   0.010790     3.430121  0.139784   49.76470   \n",
      "1566       K2-18 b  3457.0   0.025337     8.054810  0.142931    7.87000   \n",
      "1721   Kepler-37 b  5417.0   0.009587     3.047689  0.102457  645.27800   \n",
      "1933     WASP-89 b  4955.0   5.821910  1850.825942  0.042756    7.01000   \n",
      "1987   Kepler-33 e  5904.0   0.052530    16.699528  0.213825    6.67399   \n",
      "2003      K2-141 b  4373.0   0.016486     5.241078  0.007306    8.00000   \n",
      "2024   Kepler-99 b  4782.0   0.019350     6.151500  0.050067   10.90000   \n",
      "2112  Kepler-102 d  4903.0   0.005750     1.827930  0.086071   13.27000   \n",
      "2187       K2-66 b  5887.0   0.019909     6.329338  0.059800    7.80000   \n",
      "2309  Kepler-131 c  5685.0   0.052549    16.705822  0.170752   77.70000   \n",
      "2318   HD 219134 c  4699.0   0.013711     4.358855  0.065253    6.90894   \n",
      "2417   Kepler-22 b  5518.0   0.018335     5.828666  0.848513   12.89290   \n",
      "2420   Kepler-68 c  5793.0   0.015142     4.813748  0.090702   28.00000   \n",
      "2580   Kepler-78 b  5089.0   0.005850     1.859756  0.009147    7.25116   \n",
      "2609    HAT-P-20 b  4595.0   7.289530  2317.392614  0.036160   13.78000   \n",
      "2623   Kepler-36 b  5911.0   0.014038     4.462747  0.115423    7.46000   \n",
      "2652  Kepler-412 b  5750.0   0.940391   298.956882  0.029596    5.38499   \n",
      "2670  BD +20 594 b  5766.0   0.051507    16.374277  0.232191    7.89000   \n",
      "2706      K2-110 b  5010.0   0.052931    16.827135  0.102068    5.20000   \n",
      "2766     GJ 9827 c  4269.0   0.007610     2.419349  0.039419    6.40000   \n",
      "2773   Kepler-75 b  5330.0   9.984790  3174.234635  0.080741   11.00000   \n",
      "2829   Kepler-89 b  6182.0   0.028735     9.134994  0.051188   10.10000   \n",
      "2891    CoRoT-20 b  5880.0   4.240000  1347.925680  0.090149    8.87000   \n",
      "2903     Qatar-4 b  5215.0   6.084610  1934.340111  0.028034    5.10000   \n",
      "2910    LHS 1140 b  3131.0   0.021229     6.748816  0.087494   12.50000   \n",
      "3133  Kepler-131 b  5685.0   0.052638    16.734052  0.125570    6.00000   \n",
      "3262  Kepler-102 b  4903.0   0.000000     0.000000  0.055137   23.29000   \n",
      "\n",
      "             R         RE        STAR  MSTAR   RSTAR  BINARY           LUM  \\\n",
      "26         NaN        NaN     HD 3167  0.866     NaN     0.0           NaN   \n",
      "174   1.267000  14.201676     WASP-18  1.220  1.2160     0.0  8.555632e+26   \n",
      "318   0.162370   1.819989  Kepler-113  0.750  0.6900     0.0  8.184091e+25   \n",
      "429   1.157000  12.968697     HAT-P-2  1.308  1.5060     0.0  1.224384e+27   \n",
      "476   0.146486   1.641947   HD 219134  0.810  0.7780     0.0  1.017761e+26   \n",
      "492   0.127576   1.429987  Kepler-406  1.070  1.0700     0.0  3.714021e+26   \n",
      "683   0.143989   1.613958     CoRoT-7  0.930  0.8700     0.0  2.021126e+26   \n",
      "958   0.075832   0.849992  Kepler-406  1.070  1.0700     0.0  3.714021e+26   \n",
      "963   1.220000  13.674858   Kepler-39  1.100  1.3900     0.0  1.023274e+27   \n",
      "993   1.010000  11.320989     CoRoT-3  1.370  1.5600     0.0  1.732024e+27   \n",
      "1324  0.285230   3.197115   Kepler-33  1.291  1.8200     0.0  1.388012e+27   \n",
      "1334  1.090000  12.217701    CoRoT-14  1.130  1.2100     0.0  6.697996e+26   \n",
      "1350       NaN        NaN  Kepler-396  0.850  1.0600     0.0  3.783764e+26   \n",
      "1366  0.397540   4.455986   Kepler-33  1.291  1.8200     0.0  1.388012e+27   \n",
      "1401  0.107221   1.201829     GJ 1132  0.181  0.2105     0.0  1.747271e+24   \n",
      "1511  1.007000  11.287362    CoRoT-27  1.050  1.0800     0.0  4.874394e+26   \n",
      "1532  0.066000   0.739787   Kepler-37  0.803  0.7700     0.0  1.760686e+26   \n",
      "1566  0.216574   2.427556       K2-18  0.359  0.4110     0.0  8.320438e+24   \n",
      "1721  0.027008   0.302728   Kepler-37  0.803  0.7700     0.0  1.760686e+26   \n",
      "1933  1.040000  11.657256     WASP-89  0.920  0.8800     0.0  1.609923e+26   \n",
      "1987  0.358929   4.023199   Kepler-33  1.291  1.8200     0.0  1.388012e+27   \n",
      "2003  0.140049   1.569795      K2-141  0.662  0.6740     0.0  5.729316e+25   \n",
      "2024  0.132037   1.479990   Kepler-99  0.790  0.7300     0.0  9.610568e+25   \n",
      "2112  0.105263   1.179882  Kepler-102  0.800  0.7400     0.0  1.091380e+26   \n",
      "2187  0.224872   2.520568       K2-66  1.110  1.6700     0.0  1.155245e+27   \n",
      "2309  0.074940   0.839993  Kepler-131  1.020  1.0300     0.0  3.821742e+26   \n",
      "2318  0.138060   1.547501   HD 219134  0.810  0.7780     0.0  1.017761e+26   \n",
      "2417  0.212500   2.381891   Kepler-22  0.970  0.9790     0.0  3.064483e+26   \n",
      "2420  0.084945   0.952142   Kepler-68  1.079  1.2430     0.0  6.000969e+26   \n",
      "2580  0.103396   1.158955   Kepler-78  0.810  0.7400     0.0  1.266655e+26   \n",
      "2609  0.867000   9.718116    HAT-P-20  0.756  0.6940     0.0  7.405017e+25   \n",
      "2623  0.132454   1.484664   Kepler-36  1.071  1.6260     0.0  1.113140e+27   \n",
      "2652  1.325000  14.851793  Kepler-412  1.167  1.2870     0.0  6.244440e+26   \n",
      "2670  0.203541   2.281471  BD +20 594  0.961  0.9280     0.0  3.282914e+26   \n",
      "2706  0.236389   2.649661      K2-110  0.738  0.7130     0.0  1.104574e+26   \n",
      "2766  0.115902   1.299134     GJ 9827  0.614  0.6130     0.0  4.304182e+25   \n",
      "2773  1.030000  11.545167   Kepler-75  0.880  0.8800     0.0  2.155456e+26   \n",
      "2829  0.155800   1.746347   Kepler-89  1.277  1.5200     0.0  1.163773e+27   \n",
      "2891  0.840000   9.415476    CoRoT-20  1.140  1.0200     0.0  4.289184e+26   \n",
      "2903  1.165170  13.060274     Qatar-4  0.896  0.8490     0.0  1.838644e+26   \n",
      "2910  0.131011   1.468489    LHS 1140  0.146  0.1860     0.0  1.146630e+24   \n",
      "3133  0.215006   2.409981  Kepler-131  1.020  1.0300     0.0  3.821742e+26   \n",
      "3262  0.041927   0.469956  Kepler-102  0.800  0.7400     0.0  1.091380e+26   \n",
      "\n",
      "          LUMS        ri        ro       HZD  \n",
      "26         NaN       NaN       NaN       NaN  \n",
      "174   2.235598  1.048745  2.517869 -2.400297  \n",
      "318   0.213851  0.344471  0.885043 -2.088467  \n",
      "429   3.199330  1.260873  3.039518 -2.341432  \n",
      "476   0.265942  0.384402  0.988773 -2.143915  \n",
      "492   0.970479  0.715657  1.776461 -2.281129  \n",
      "683   0.528123  0.532669  1.336624 -2.282357  \n",
      "958   0.970479  0.715657  1.776461 -2.244536  \n",
      "963   2.673828  1.154220  2.785534 -2.225041  \n",
      "993   4.525800  1.467848  3.481133 -2.401161  \n",
      "1324  3.626893  1.364563  3.338262 -2.262287  \n",
      "1334  1.750195  0.942878  2.294990 -2.354868  \n",
      "1350  0.988702  0.721002  1.785967 -1.926787  \n",
      "1366  3.626893  1.364563  3.338262 -2.125870  \n",
      "1401  0.004566  0.051713  0.142371 -1.802711  \n",
      "1511  1.273685  0.808773  1.978887 -2.302637  \n",
      "1532  0.460069  0.494824  1.234379 -1.960147  \n",
      "1566  0.021741  0.112593  0.307070 -0.688002  \n",
      "1721  0.460069  0.494824  1.234379 -2.061091  \n",
      "1933  0.420675  0.480085  1.221149 -2.180274  \n",
      "1987  3.626893  1.364563  3.338262 -2.166073  \n",
      "2003  0.149708  0.290701  0.758806 -2.210817  \n",
      "2024  0.251125  0.372721  0.955223 -2.107820  \n",
      "2112  0.285179  0.395866  1.009196 -2.010204  \n",
      "2187  3.018670  1.245741  3.049597 -2.314895  \n",
      "2309  0.998626  0.722093  1.781858 -2.040496  \n",
      "2318  0.265942  0.384402  0.988773 -2.056137  \n",
      "2417  0.800753  0.650532  1.616115 -0.589924  \n",
      "2420  1.568061  0.901150  2.214189 -2.234461  \n",
      "2580  0.330979  0.424154  1.072706 -2.279799  \n",
      "2609  0.193494  0.328757  0.849565 -2.123626  \n",
      "2623  2.908650  1.221661  2.987851 -2.252683  \n",
      "2652  1.631680  0.920762  2.266230 -2.324692  \n",
      "2670  0.857830  0.667215  1.641145 -1.893337  \n",
      "2706  0.288627  0.397025  1.007489 -1.966335  \n",
      "2766  0.112469  0.252541  0.662358 -2.040078  \n",
      "2773  0.563223  0.549096  1.374694 -2.134582  \n",
      "2829  3.040953  1.235125  2.989539 -2.349666  \n",
      "2891  1.120769  0.759274  1.859225 -2.216645  \n",
      "2903  0.480440  0.509033  1.280527 -2.246927  \n",
      "2910  0.002996  0.041952  0.116326  0.224671  \n",
      "3133  0.998626  0.722093  1.781858 -2.125764  \n",
      "3262  0.285179  0.395866  1.009196 -2.111078  \n"
     ]
    }
   ],
   "source": [
    "# Se calcula la distancia de la zona de habitable (HDZ)\n",
    "datos[\"HZD\"] = (2*datos[\"A\"] - datos[\"ro\"] - datos[\"ri\"])/(datos[\"ro\"] - datos[\"ri\"])\n",
    "\n",
    "print(datos)"
   ]
  },
  {
   "cell_type": "code",
   "execution_count": 207,
   "metadata": {
    "scrolled": false
   },
   "outputs": [
    {
     "name": "stdout",
     "output_type": "stream",
     "text": [
      "             NAME    TEFF      MASS     MASSE         A  DENSITY         R  \\\n",
      "1566      K2-18 b  3457.0  0.025337  8.054810  0.142931   7.8700  0.216574   \n",
      "2417  Kepler-22 b  5518.0  0.018335  5.828666  0.848513  12.8929  0.212500   \n",
      "2910   LHS 1140 b  3131.0  0.021229  6.748816  0.087494  12.5000  0.131011   \n",
      "\n",
      "            RE       STAR  MSTAR  RSTAR  BINARY           LUM      LUMS  \\\n",
      "1566  2.427556      K2-18  0.359  0.411     0.0  8.320438e+24  0.021741   \n",
      "2417  2.381891  Kepler-22  0.970  0.979     0.0  3.064483e+26  0.800753   \n",
      "2910  1.468489   LHS 1140  0.146  0.186     0.0  1.146630e+24  0.002996   \n",
      "\n",
      "            ri        ro       HZD  \n",
      "1566  0.112593  0.307070 -0.688002  \n",
      "2417  0.650532  1.616115 -0.589924  \n",
      "2910  0.041952  0.116326  0.224671  \n"
     ]
    }
   ],
   "source": [
    "# Se filtran los datos de planetas en la zona de habitabilidad, según el artículo \n",
    "#http://phl.upr.edu/library/notes/habitablezonesdistancehzdahabitabilitymetricforexoplanets\n",
    "# Esta zona tiene un HZD entre -1 y +1.\n",
    "\n",
    "# Se descartan los datos con Binario = 1 y NaN\n",
    "datos = datos.query(\"HZD <= 1 and HZD >= -1\")\n",
    "print(datos)\n"
   ]
  },
  {
   "cell_type": "code",
   "execution_count": 208,
   "metadata": {
    "scrolled": false
   },
   "outputs": [
    {
     "data": {
      "text/plain": [
       "<AxesSubplot:title={'center':'Distancia a la estrella VS. Temperatura efectiva'}, xlabel='A', ylabel='TEFF'>"
      ]
     },
     "execution_count": 208,
     "metadata": {},
     "output_type": "execute_result"
    },
    {
     "data": {
      "image/png": "[encoded data removed]",
      "text/plain": [
       "<Figure size 720x432 with 1 Axes>"
      ]
     },
     "metadata": {
      "needs_background": "light"
     },
     "output_type": "display_data"
    },
    {
     "data": {
      "image/png": "[encoded data removed]",
      "text/plain": [
       "<Figure size 720x432 with 1 Axes>"
      ]
     },
     "metadata": {
      "needs_background": "light"
     },
     "output_type": "display_data"
    },
    {
     "data": {
      "image/png": "[encoded data removed]",
      "text/plain": [
       "<Figure size 720x432 with 1 Axes>"
      ]
     },
     "metadata": {
      "needs_background": "light"
     },
     "output_type": "display_data"
    },
    {
     "data": {
      "image/png": "[encoded data removed]",
      "text/plain": [
       "<Figure size 720x432 with 1 Axes>"
      ]
     },
     "metadata": {
      "needs_background": "light"
     },
     "output_type": "display_data"
    }
   ],
   "source": [
    "# Gráficas\n",
    "datos.plot.scatter('MSTAR','A',color='blue', figsize = (10,6), title = 'Masa de la estrella VS. Distancia a la estrella')\n",
    "datos.hist(column = 'A',figsize = (10,6))\n",
    "datos.plot.scatter(x='DENSITY', y='MSTAR',color='blue',figsize = (10,6), title = 'Densidad VS. Masa de la estrella')\n",
    "datos.plot.scatter(x='A', y='TEFF',color='blue',figsize = (10,6),title = 'Distancia a la estrella VS. Temperatura efectiva')\n"
   ]
  },
  {
   "cell_type": "code",
   "execution_count": null,
   "metadata": {},
   "outputs": [],
   "source": []
  }
 ],
 "metadata": {
  "kernelspec": {
   "display_name": "Python 3",
   "language": "python",
   "name": "python3"
  },
  "language_info": {
   "codemirror_mode": {
    "name": "ipython",
    "version": 3
   },
   "file_extension": ".py",
   "mimetype": "text/x-python",
   "name": "python",
   "nbconvert_exporter": "python",
   "pygments_lexer": "ipython3",
   "version": "3.6.9"
  }
 },
 "nbformat": 4,
 "nbformat_minor": 4
}
